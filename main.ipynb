{
 "cells": [
  {
   "cell_type": "markdown",
   "metadata": {},
   "source": [
    "- pip install django djangorestframework stripe django-allauth  # For authentication, payments, REST API\n",
    "- pip install django-extensions django-scheduler  # For scheduling and availability check\n",
    "- pip install celery redis django-celery-results  # For real-time notifications (optional)"
   ]
  },
  {
   "cell_type": "markdown",
   "metadata": {},
   "source": []
  }
 ],
 "metadata": {
  "language_info": {
   "name": "python"
  }
 },
 "nbformat": 4,
 "nbformat_minor": 2
}
